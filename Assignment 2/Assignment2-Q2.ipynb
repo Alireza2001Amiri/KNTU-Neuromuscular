{
 "cells": [
  {
   "cell_type": "markdown",
   "id": "08d64eed",
   "metadata": {},
   "source": [
    "# Assignment 2 - Q2 Alireza Amiri"
   ]
  },
  {
   "cell_type": "code",
   "execution_count": 83,
   "id": "59fae5db",
   "metadata": {},
   "outputs": [],
   "source": [
    "import numpy as np\n",
    "import pandas as pd"
   ]
  },
  {
   "cell_type": "markdown",
   "id": "01e3854d",
   "metadata": {},
   "source": [
    "## Import Data"
   ]
  },
  {
   "cell_type": "code",
   "execution_count": 84,
   "id": "092b8353",
   "metadata": {},
   "outputs": [],
   "source": [
    "data = pd.read_csv('NMSC - Assignemnt 02 - Data.csv')\n",
    "Stance_Time = data['ST']\n",
    "Swing_Time = data['SW']\n",
    "Right_Step_Length = data['L_Right']\n",
    "Left_Step_Length = data['L_Left']\n",
    "Step_Length = pd.concat([Right_Step_Length,Left_Step_Length])"
   ]
  },
  {
   "cell_type": "markdown",
   "id": "66eaa417",
   "metadata": {},
   "source": [
    "Calculating RMS of Step_Lengths"
   ]
  },
  {
   "cell_type": "code",
   "execution_count": 85,
   "id": "e1da4a58",
   "metadata": {},
   "outputs": [
    {
     "name": "stdout",
     "output_type": "stream",
     "text": [
      "0.3991334363342665\n"
     ]
    }
   ],
   "source": [
    "def calculate_rms(array):\n",
    "    return np.sqrt(np.mean(np.square(array)))\n",
    "\n",
    "RMS_Step_Length = calculate_rms(Step_Length)\n",
    "print(RMS_Step_Length)"
   ]
  },
  {
   "cell_type": "markdown",
   "id": "3690ef20",
   "metadata": {},
   "source": [
    "Calculate Standard Deviation of Step Lengths"
   ]
  },
  {
   "cell_type": "code",
   "execution_count": 86,
   "id": "806d2d9c",
   "metadata": {},
   "outputs": [
    {
     "name": "stdout",
     "output_type": "stream",
     "text": [
      "0.02654124149319319\n"
     ]
    }
   ],
   "source": [
    "Step_Length_std = np.std(Step_Length)\n",
    "print(Step_Length_std)"
   ]
  },
  {
   "cell_type": "markdown",
   "id": "dcf937db",
   "metadata": {},
   "source": [
    "Calculating the average Swing speed"
   ]
  },
  {
   "cell_type": "code",
   "execution_count": 87,
   "id": "9fc557bd",
   "metadata": {},
   "outputs": [
    {
     "name": "stdout",
     "output_type": "stream",
     "text": [
      "0.9724602203182372\n"
     ]
    }
   ],
   "source": [
    "Right_Velocity = np.sum(Right_Step_Length) / np.sum(Swing_Time)\n",
    "Right_Velocity_mean = Right_Velocity\n",
    "print(Right_Velocity_mean)"
   ]
  },
  {
   "cell_type": "markdown",
   "id": "3f1fa5d5",
   "metadata": {},
   "source": [
    "Calculating Average Speed of the Person"
   ]
  },
  {
   "cell_type": "code",
   "execution_count": 88,
   "id": "d0bf7555",
   "metadata": {},
   "outputs": [
    {
     "name": "stdout",
     "output_type": "stream",
     "text": [
      "0.885245901639344\n"
     ]
    }
   ],
   "source": [
    "Total_Time = np.sum(Swing_Time) + np.sum(Stance_Time)\n",
    "Total_Length = np.sum(Step_Length)\n",
    "Average_Speed = Total_Length/Total_Time\n",
    "print(Average_Speed)"
   ]
  },
  {
   "cell_type": "markdown",
   "id": "ff0c9c17",
   "metadata": {},
   "source": [
    "Calculating Cadence of Person.\n",
    "\n",
    "----len(Stance_Time) is equal to the number of the steps----"
   ]
  },
  {
   "cell_type": "code",
   "execution_count": 90,
   "id": "40eb4dec",
   "metadata": {},
   "outputs": [
    {
     "data": {
      "text/plain": [
       "66.68519033064737"
      ]
     },
     "execution_count": 90,
     "metadata": {},
     "output_type": "execute_result"
    }
   ],
   "source": [
    "Cadence = len(Stance_Time)/Total_Time * 60\n",
    "Cadence"
   ]
  },
  {
   "cell_type": "code",
   "execution_count": 92,
   "id": "7ed41c44",
   "metadata": {},
   "outputs": [
    {
     "name": "stdout",
     "output_type": "stream",
     "text": [
      "RMS of Step Length = 0.3991334363342665\n",
      "Standard Deviation of Step Lengths = 0.02654124149319319\n",
      "Right foot average speed = 0.9724602203182372\n",
      "Average speed of the person  = 0.885245901639344\n",
      "Cadence of the person = 66.68519033064737\n"
     ]
    }
   ],
   "source": [
    "print('RMS of Step Length = {}'.format(RMS_Step_Length))\n",
    "print('Standard Deviation of Step Lengths = {}'.format(Step_Length_std))\n",
    "print('Right foot average speed = {}'.format(Right_Velocity_mean))\n",
    "print('Average speed of the person  = {}'.format(Average_Speed))\n",
    "print('Cadence of the person = {}'.format(Cadence))"
   ]
  },
  {
   "cell_type": "markdown",
   "id": "c88e434e",
   "metadata": {},
   "source": [
    "Thank You"
   ]
  }
 ],
 "metadata": {
  "kernelspec": {
   "display_name": "Python 3 (ipykernel)",
   "language": "python",
   "name": "python3"
  },
  "language_info": {
   "codemirror_mode": {
    "name": "ipython",
    "version": 3
   },
   "file_extension": ".py",
   "mimetype": "text/x-python",
   "name": "python",
   "nbconvert_exporter": "python",
   "pygments_lexer": "ipython3",
   "version": "3.10.9"
  }
 },
 "nbformat": 4,
 "nbformat_minor": 5
}
