{
 "cells": [
  {
   "cell_type": "markdown",
   "id": "d164e060",
   "metadata": {},
   "source": [
    "# Assignment 2 - Q1 Alireza Amiri"
   ]
  },
  {
   "cell_type": "code",
   "execution_count": 12,
   "id": "2bda76e7",
   "metadata": {},
   "outputs": [],
   "source": [
    "import numpy as np\n",
    "import pandas as pd"
   ]
  },
  {
   "cell_type": "markdown",
   "id": "ac6a4f8e",
   "metadata": {},
   "source": [
    "## Import Data"
   ]
  },
  {
   "cell_type": "code",
   "execution_count": 21,
   "id": "a7e51c53",
   "metadata": {},
   "outputs": [
    {
     "data": {
      "text/plain": [
       "array([0.42, 0.44, 0.42, 0.35, 0.33, 0.45])"
      ]
     },
     "execution_count": 21,
     "metadata": {},
     "output_type": "execute_result"
    }
   ],
   "source": [
    "Stance_Time =np.array([0.5 , 0.4 , 0.6])\n",
    "Swing_Time = np.array([0.4 , 0.3 , 0.5])\n",
    "Right_Step_Length = np.array([0.42,0.44,0.42])\n",
    "Left_Step_Length = np.array([0.35 ,0.33,0.45])\n",
    "Step_Length = np.append(Right_Step_Length,Left_Step_Length)\n",
    "Step_Length\n",
    "\n"
   ]
  },
  {
   "cell_type": "markdown",
   "id": "640c8333",
   "metadata": {},
   "source": [
    "Calculating RMS of Step_Lengths"
   ]
  },
  {
   "cell_type": "code",
   "execution_count": 22,
   "id": "d5af0a56",
   "metadata": {},
   "outputs": [
    {
     "name": "stdout",
     "output_type": "stream",
     "text": [
      "0.40420704265677176\n"
     ]
    }
   ],
   "source": [
    "def calculate_rms(array):\n",
    "    return np.sqrt(np.mean(np.square(array)))\n",
    "\n",
    "RMS_Step_Length = calculate_rms(Step_Length)\n",
    "print(RMS_Step_Length)"
   ]
  },
  {
   "cell_type": "markdown",
   "id": "2ba15925",
   "metadata": {},
   "source": [
    "Calculate Standard Deviation of Step Lengths"
   ]
  },
  {
   "cell_type": "code",
   "execution_count": 23,
   "id": "d2b7f635",
   "metadata": {},
   "outputs": [
    {
     "name": "stdout",
     "output_type": "stream",
     "text": [
      "0.045246239868327424\n"
     ]
    }
   ],
   "source": [
    "Step_Length_std = np.std(Step_Length)\n",
    "print(Step_Length_std)"
   ]
  },
  {
   "cell_type": "markdown",
   "id": "6cc7adb1",
   "metadata": {},
   "source": [
    "Calculating the average Swing speed"
   ]
  },
  {
   "cell_type": "code",
   "execution_count": 44,
   "id": "866cbc71",
   "metadata": {},
   "outputs": [
    {
     "name": "stdout",
     "output_type": "stream",
     "text": [
      "1.1188888888888888\n"
     ]
    }
   ],
   "source": [
    "Right_Velocity = np.array(Right_Step_Length) / np.array(Swing_Time)\n",
    "Right_Velocity_mean = Right_Velocity.mean()\n",
    "print(Right_Velocity_mean)"
   ]
  },
  {
   "cell_type": "markdown",
   "id": "e1e0bd21",
   "metadata": {},
   "source": [
    "Calculating Average Speed of the Person"
   ]
  },
  {
   "cell_type": "code",
   "execution_count": 43,
   "id": "1d95d1ba",
   "metadata": {},
   "outputs": [
    {
     "name": "stdout",
     "output_type": "stream",
     "text": [
      "0.8925925925925926\n"
     ]
    }
   ],
   "source": [
    "Total_Time = np.sum(Swing_Time) + np.sum(Stance_Time)\n",
    "Total_Length = np.sum(Step_Length)\n",
    "Average_Speed = Total_Length/Total_Time\n",
    "print(Average_Speed)"
   ]
  },
  {
   "cell_type": "markdown",
   "id": "9fa8c7ec",
   "metadata": {},
   "source": [
    "Calculating Cadence of Person.\n",
    "\n",
    "----len(Stance_Time) is equal to the number of the steps----"
   ]
  },
  {
   "cell_type": "code",
   "execution_count": 41,
   "id": "bfe2dcbe",
   "metadata": {},
   "outputs": [
    {
     "data": {
      "text/plain": [
       "66.66666666666666"
      ]
     },
     "execution_count": 41,
     "metadata": {},
     "output_type": "execute_result"
    }
   ],
   "source": [
    "Cadence = len(Stance_Time)/Total_Time * 60\n",
    "Cadence"
   ]
  },
  {
   "cell_type": "code",
   "execution_count": 28,
   "id": "e56b1f97",
   "metadata": {},
   "outputs": [
    {
     "name": "stdout",
     "output_type": "stream",
     "text": [
      "RMS of Step Length = 0.40420704265677176\n",
      "Standard Deviation of Step Lengths = 0.045246239868327424\n",
      "Right foot average speed = 1.1188888888888888\n",
      "Average speed of the person  = 0.8925925925925926\n",
      "Cadence of the person = 66.66666666666666\n"
     ]
    }
   ],
   "source": [
    "print('RMS of Step Length = {}'.format(RMS_Step_Length))\n",
    "print('Standard Deviation of Step Lengths = {}'.format(Step_Length_std))\n",
    "print('Right foot average speed = {}'.format(Right_Velocity_mean))\n",
    "print('Average speed of the person  = {}'.format(Average_Speed))\n",
    "print('Cadence of the person = {}'.format(Cadence))"
   ]
  },
  {
   "cell_type": "markdown",
   "id": "321a3c49",
   "metadata": {},
   "source": [
    "Thank You"
   ]
  }
 ],
 "metadata": {
  "kernelspec": {
   "display_name": "Python 3 (ipykernel)",
   "language": "python",
   "name": "python3"
  },
  "language_info": {
   "codemirror_mode": {
    "name": "ipython",
    "version": 3
   },
   "file_extension": ".py",
   "mimetype": "text/x-python",
   "name": "python",
   "nbconvert_exporter": "python",
   "pygments_lexer": "ipython3",
   "version": "3.10.9"
  }
 },
 "nbformat": 4,
 "nbformat_minor": 5
}
